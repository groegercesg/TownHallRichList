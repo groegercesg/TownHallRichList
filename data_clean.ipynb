{
 "cells": [
  {
   "cell_type": "code",
   "execution_count": 1,
   "id": "9559490b",
   "metadata": {},
   "outputs": [],
   "source": [
    "import pandas as pd\n",
    "import numpy as np"
   ]
  },
  {
   "cell_type": "code",
   "execution_count": 2,
   "id": "e7702daa",
   "metadata": {},
   "outputs": [],
   "source": [
    "file = \"data/Town_Hall_Rich_List_2023.xlsx\"\n",
    "data_df = pd.read_excel(file).fillna(0)"
   ]
  },
  {
   "cell_type": "code",
   "execution_count": 3,
   "id": "5f161b99",
   "metadata": {},
   "outputs": [],
   "source": [
    "data_df = data_df \\\n",
    "    .groupby(['Council'], sort=False, as_index=False) \\\n",
    "    .agg(\n",
    "        count_people=(\"Council\", \"count\"),\n",
    "        sum_tc=(\"Total\", \"sum\"),\n",
    "        mean_tc=(\"Total\", \"mean\"),\n",
    "        sd_tc=(\"Total\", np.std)\n",
    ").fillna(0)\n",
    "\n",
    "data_df.to_pickle(\"pickles/th_2023.pkl\")"
   ]
  }
 ],
 "metadata": {
  "kernelspec": {
   "display_name": "Python 3 (ipykernel)",
   "language": "python",
   "name": "python3"
  },
  "language_info": {
   "codemirror_mode": {
    "name": "ipython",
    "version": 3
   },
   "file_extension": ".py",
   "mimetype": "text/x-python",
   "name": "python",
   "nbconvert_exporter": "python",
   "pygments_lexer": "ipython3",
   "version": "3.10.9"
  }
 },
 "nbformat": 4,
 "nbformat_minor": 5
}
